{
 "cells": [
  {
   "cell_type": "markdown",
   "metadata": {},
   "source": [
    "## Geodesic Distances\n",
    "\n",
    "Using the [fdasrsf](https://fdasrsf-python.readthedocs.io/en/latest/) library, we compute the geodesic distances between pairs of open curves."
   ]
  },
  {
   "cell_type": "markdown",
   "metadata": {},
   "source": [
    "#### Imports / Functions"
   ]
  },
  {
   "cell_type": "code",
   "execution_count": 2,
   "metadata": {},
   "outputs": [],
   "source": [
    "import pandas as pd\n",
    "import numpy as np\n",
    "from copy import deepcopy\n",
    "import tqdm\n",
    "from fdasrsf.geodesic import geod_sphere"
   ]
  },
  {
   "cell_type": "code",
   "execution_count": 34,
   "metadata": {},
   "outputs": [],
   "source": [
    "def rescale_curve(x,y,v=3):\n",
    "    # Code to scale a curve so that it lies between +-v/2 (default: 1.5) in both axes.\n",
    "    p = max(max(y)-min(y),max(x)-min(x))\n",
    "    q = p/v\n",
    "    x_ = x/q\n",
    "    y_ = y/q\n",
    "    mp = min(x_)+(max(x_)-min(x_))/2\n",
    "    x_ = x_-mp\n",
    "    mp = min(y_)+(max(y_)-min(y_))/2\n",
    "    y_ = y_-mp\n",
    "    return list(x_),list(y_)"
   ]
  },
  {
   "cell_type": "markdown",
   "metadata": {},
   "source": [
    "#### Process Data"
   ]
  },
  {
   "cell_type": "code",
   "execution_count": 36,
   "metadata": {},
   "outputs": [],
   "source": [
    "pth = \"C:\\\\Users\\\\arian\\\\Documents\\\\GitHub\\\\contourExtraction\\\\smoothedMussels_Scaled_251.csv\" # Path to dataset.\n",
    "table = pd.read_csv(pth)"
   ]
  },
  {
   "cell_type": "markdown",
   "metadata": {},
   "source": [
    "### Pairwise Distances by Group\n",
    "\n",
    "Here, we compute distance matrices per group."
   ]
  },
  {
   "cell_type": "code",
   "execution_count": 52,
   "metadata": {},
   "outputs": [],
   "source": [
    "all_groups = np.unique(table['type'])"
   ]
  },
  {
   "cell_type": "code",
   "execution_count": null,
   "metadata": {},
   "outputs": [],
   "source": [
    "rescale = False # Set rescale = True, if you want to rescale curves to be within +-1.5 in the x,y axis.\n",
    "\n",
    "for group in all_groups:\n",
    "    filtered_table = table[table['type']==group]\n",
    "    names = np.unique(filtered_table['id'])\n",
    "    n = len(names)\n",
    "    distances_DP = np.zeros((n,n))\n",
    "    errors = []\n",
    "    print(\"Computing distance matrix for group: \"+str(group))\n",
    "    for i in tqdm.tqdm(range(0,n)):\n",
    "        x1 = list(filtered_table[filtered_table['id']==names[i]]['x'])\n",
    "        y1 = list(filtered_table[filtered_table['id']==names[i]]['y'])\n",
    "        if rescale == True:\n",
    "            x1,y1 = rescale_curve(np.array(x1),np.array(y1))\n",
    "        beta1 = np.column_stack([x1,y1]).T\n",
    "        for j in range(i+1,n):\n",
    "            x2 = list(filtered_table[filtered_table['id']==names[j]]['x'])\n",
    "            y2 = list(filtered_table[filtered_table['id']==names[j]]['y'])\n",
    "            if rescale == True:\n",
    "                x2,y2 = rescale_curve(np.array(x2),np.array(y2))\n",
    "            beta2 = np.column_stack([x2,y2]).T\n",
    "            try:\n",
    "                d,_,_, = geod_sphere(beta1, beta2)\n",
    "            except:\n",
    "                try:\n",
    "                    d,_,_, = geod_sphere(beta2, beta1)\n",
    "                except:\n",
    "                    errors.append([i,j])\n",
    "                    d = 100000\n",
    "\n",
    "            distances_DP[i,j] = d\n",
    "            distances_DP[j,i] = d\n",
    "    dists_df = pd.DataFrame(distances_DP,index=names)\n",
    "    dists_df.columns = names\n",
    "    dists_df.index.name = 'id' \n",
    "    dists_df.to_csv('Open_SRVF_Distances_'+str(group)+'.csv')\n",
    "    print(\"Computed distances between \"+str(n)+\" contours, with \"+str(len(errors))+\" errors.\")\n",
    "    # np.save('errors_'+str(group)+'.npy',errors) # Uncomment this if you'd wish to save the errors.\n",
    "    "
   ]
  },
  {
   "cell_type": "markdown",
   "metadata": {},
   "source": [
    "### Pairwise Distances on Entire Dataset\n",
    "\n",
    "Here, we compute one distance matrix based on the entire dataset."
   ]
  },
  {
   "cell_type": "code",
   "execution_count": 57,
   "metadata": {
    "scrolled": true
   },
   "outputs": [
    {
     "name": "stderr",
     "output_type": "stream",
     "text": [
      "100%|████████████████████████████████████████████████████████████████████████████████████| 5/5 [00:12<00:00,  2.46s/it]"
     ]
    },
    {
     "name": "stdout",
     "output_type": "stream",
     "text": [
      "Computed distances between 5 contours, with 0 errors.\n"
     ]
    },
    {
     "name": "stderr",
     "output_type": "stream",
     "text": [
      "\n"
     ]
    }
   ],
   "source": [
    "names = np.unique(table['id'])\n",
    "n = len(names)\n",
    "\n",
    "distances_DP = np.zeros((n,n))\n",
    "errors = []\n",
    "\n",
    "for i in tqdm.tqdm(range(0,n)):\n",
    "    x1 = list(table[table['id']==names[i]]['x'])\n",
    "    y1 = list(table[table['id']==names[i]]['y'])\n",
    "    if rescale == True:\n",
    "        x1,y1 = rescale_curve(np.array(x1),np.array(y1))\n",
    "    beta1 = np.column_stack([x1,y1]).T\n",
    "    for j in range(i+1,n):\n",
    "        x2 = list(table[table['id']==names[j]]['x'])\n",
    "        y2 = list(table[table['id']==names[j]]['y'])\n",
    "        if rescale == True:\n",
    "            x2,y2 = rescale_curve(np.array(x2),np.array(y2))\n",
    "        beta2 = np.column_stack([x2,y2]).T\n",
    "        try:\n",
    "            d,_,_, = geod_sphere(beta1, beta2)\n",
    "        except:\n",
    "            try:\n",
    "                d,_,_, = geod_sphere(beta2, beta1)\n",
    "            except:\n",
    "                errors.append([i,j])\n",
    "                d = 100000\n",
    "\n",
    "        distances_DP[i,j] = d\n",
    "        distances_DP[j,i] = d\n",
    "        \n",
    "    pd.DataFrame(distances_DP).to_csv('Open_SRVF_Distances_ongoing.csv') # Save CSV distance matrix as you go along.\n",
    "    # This is a precautionary step in case the program breaks, so that distances won't be deleted.\n",
    "    # Comment out this step if you don't wish to save at each iteration.\n",
    "\n",
    "dists_df = pd.DataFrame(distances_DP,index=names)\n",
    "dists_df.columns = names\n",
    "dists_df.index.name = 'id' \n",
    "dists_df.to_csv('Open_SRVF_Distances_All.csv')\n",
    "print(\"Computed distances between \"+str(n)+\" contours, with \"+str(len(errors))+\" errors.\")"
   ]
  },
  {
   "cell_type": "code",
   "execution_count": null,
   "metadata": {},
   "outputs": [],
   "source": []
  }
 ],
 "metadata": {
  "kernelspec": {
   "display_name": "Python 3",
   "language": "python",
   "name": "python3"
  },
  "language_info": {
   "codemirror_mode": {
    "name": "ipython",
    "version": 3
   },
   "file_extension": ".py",
   "mimetype": "text/x-python",
   "name": "python",
   "nbconvert_exporter": "python",
   "pygments_lexer": "ipython3",
   "version": "3.7.1"
  }
 },
 "nbformat": 4,
 "nbformat_minor": 4
}
